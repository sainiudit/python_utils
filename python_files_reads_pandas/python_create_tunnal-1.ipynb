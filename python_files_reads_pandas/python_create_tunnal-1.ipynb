{
 "cells": [
  {
   "cell_type": "code",
   "execution_count": 139,
   "metadata": {
    "collapsed": true
   },
   "outputs": [],
   "source": [
    "from sshtunnel import SSHTunnelForwarder\n",
    "import paramiko\n",
    "import pymysql\n",
    "from paramiko import SSHClient\n",
    "from os.path import expanduser\n",
    "from forward import forward_tunnel\n",
    "import subprocess as sbp\n",
    "%matplotlib inline\n",
    "import os\n",
    "import geopandas as gpd\n",
    "import matplotlib.pyplot as plt\n",
    "import mplleaflet\n",
    "import pandas as pd\n",
    "from paramiko import SSHClient\n",
    "from sshtunnel import SSHTunnelForwarder\n",
    "from os.path import expanduser\n",
    "from matplotlib.pyplot import pie, axis, show"
   ]
  },
  {
   "cell_type": "code",
   "execution_count": 128,
   "metadata": {
    "collapsed": true
   },
   "outputs": [],
   "source": [
    "home = expanduser('~')\n",
    "mypkey = paramiko.RSAKey.from_private_key_file(\"/home/udit/ipython/std/openssh-key\")\n",
    "\n",
    "sql_hostname = '127.0.0.1'\n",
    "sql_username = 'suermomdbu'\n",
    "sql_password = 'BPeX2dF86paxd4Uu'\n",
    "sql_main_database = 'supermom'\n",
    "sql_port = 3306\n",
    "ssh_host = '199.189.85.171'\n",
    "ssh_user = 'supermomclub'\n",
    "ssh_port = 22\n",
    "sql_ip = '1.1.1.1.1'"
   ]
  },
  {
   "cell_type": "code",
   "execution_count": 32,
   "metadata": {},
   "outputs": [
    {
     "name": "stderr",
     "output_type": "stream",
     "text": [
      "2017-04-21 13:17:10,656| ERROR   | Socket exception: Connection reset by peer (104)\n",
      "2017-04-21 13:17:32,131| ERROR   | Socket exception: Connection reset by peer (104)\n"
     ]
    }
   ],
   "source": [
    "with SSHTunnelForwarder(\n",
    "        (ssh_host, ssh_port),\n",
    "        ssh_username=ssh_user,\n",
    "        ssh_pkey=mypkey,\n",
    "        ssh_password='UydCAf92D7Te5z6N',\n",
    "        remote_bind_address=(sql_hostname, sql_port)) as tunnel:\n",
    "    conn = pymysql.connect(host='127.0.0.1', user=sql_username,\n",
    "            passwd=sql_password, db=sql_main_database,\n",
    "            port=tunnel.local_bind_port)\n",
    "    query = '''query'''\n",
    "    data = pd.read_sql_query(query, conn)\n",
    "    conn.close()\n"
   ]
  },
  {
   "cell_type": "code",
   "execution_count": null,
   "metadata": {
    "collapsed": true
   },
   "outputs": [],
   "source": []
  },
  {
   "cell_type": "code",
   "execution_count": null,
   "metadata": {
    "collapsed": true
   },
   "outputs": [],
   "source": []
  }
 ],
 "metadata": {
  "kernelspec": {
   "display_name": "Python 2",
   "language": "python",
   "name": "python2"
  },
  "language_info": {
   "codemirror_mode": {
    "name": "ipython",
    "version": 2
   },
   "file_extension": ".py",
   "mimetype": "text/x-python",
   "name": "python",
   "nbconvert_exporter": "python",
   "pygments_lexer": "ipython2",
   "version": "2.7.12"
  }
 },
 "nbformat": 4,
 "nbformat_minor": 2
}

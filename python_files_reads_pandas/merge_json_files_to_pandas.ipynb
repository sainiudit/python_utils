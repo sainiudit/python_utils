{
 "cells": [
  {
   "cell_type": "code",
   "execution_count": 51,
   "metadata": {
    "collapsed": true
   },
   "outputs": [],
   "source": [
    "import pandas as pd\n",
    "import glob"
   ]
  },
  {
   "cell_type": "code",
   "execution_count": 53,
   "metadata": {
    "collapsed": true
   },
   "outputs": [],
   "source": [
    "files=glob.glob(\"test/data/*.json\")"
   ]
  },
  {
   "cell_type": "code",
   "execution_count": 54,
   "metadata": {
    "collapsed": true
   },
   "outputs": [],
   "source": [
    "l=[]\n",
    "for filename in files:\n",
    "    try:\n",
    "        l.append(pd.read_json(filename))\n",
    "    except:\n",
    "        next"
   ]
  },
  {
   "cell_type": "code",
   "execution_count": 55,
   "metadata": {
    "collapsed": true
   },
   "outputs": [],
   "source": [
    "df = pd.concat(l, axis=0)"
   ]
  },
  {
   "cell_type": "code",
   "execution_count": 46,
   "metadata": {
    "collapsed": true
   },
   "outputs": [],
   "source": [
    "df.to_csv(\"linked_profiles.csv\",index=False,encoding='utf-8')"
   ]
  },
  {
   "cell_type": "code",
   "execution_count": 210,
   "metadata": {
    "collapsed": true
   },
   "outputs": [],
   "source": [
    "cleandf=df.dropna()"
   ]
  },
  {
   "cell_type": "code",
   "execution_count": 203,
   "metadata": {
    "collapsed": true
   },
   "outputs": [],
   "source": [
    "cleandf=cleandf.head(500)"
   ]
  },
  {
   "cell_type": "code",
   "execution_count": null,
   "metadata": {},
   "outputs": [],
   "source": [
    "from pandas.io.json import json_normalize\n",
    "df_info = json_normalize(cleandf.to_dict('list'), ['educations']).unstack().apply(pd.Series)\n",
    "\n",
    "education=pd.concat([df_info.groupby(df_info.index.get_level_values(1))[col].apply(lambda x: list(x)) for col in df_info.columns],axis=1)\n",
    "cleandf=cleandf.reset_index(drop=True)\n",
    "education=education.drop('end-date',axis=1)\n",
    "education=education.drop('start-date',axis=1)\n",
    "education=education.rename(columns={'summary':'positions_summary'})\n",
    "cleandf=pd.concat([cleandf,education],axis=1)"
   ]
  },
  {
   "cell_type": "code",
   "execution_count": null,
   "metadata": {},
   "outputs": [],
   "source": [
    "from pandas.io.json import json_normalize\n",
    "df_info = json_normalize(cleandf.to_dict('list'), ['positions']).unstack().apply(pd.Series)\n",
    "\n",
    "positions=pd.concat([df_info.groupby(df_info.index.get_level_values(1))[col].apply(lambda x: list(x)) for col in df_info.columns],axis=1)\n",
    "cleandf=cleandf.reset_index(drop=True)\n",
    "positions=positions.drop('end-date',axis=1)\n",
    "positions=positions.drop('start-date',axis=1)\n",
    "positions=positions.rename(columns={'summary':'positions_summary'})\n",
    "cleandf=pd.concat([cleandf,positions],axis=1)"
   ]
  },
  {
   "cell_type": "code",
   "execution_count": null,
   "metadata": {},
   "outputs": [],
   "source": [
    "educol=education.columns\n",
    "poscol=positions.columns"
   ]
  },
  {
   "cell_type": "code",
   "execution_count": null,
   "metadata": {},
   "outputs": [],
   "source": [
    "for col in educol:\n",
    "    print(col)\n",
    "    cleandf[col]=cleandf[col].apply(lambda x: [val for val in x if pd.notnull(val)])\n",
    "    \n",
    "for col in poscol:\n",
    "    print(col)\n",
    "    cleandf[col]=cleandf[col].apply(lambda x: [val for val in x if pd.notnull(val)])"
   ]
  },
  {
   "cell_type": "code",
   "execution_count": null,
   "metadata": {
    "collapsed": true
   },
   "outputs": [],
   "source": [
    "cleandf.to_csv(\"clean_data.csv\",index=False,encoding='utf-8')"
   ]
  },
  {
   "cell_type": "code",
   "execution_count": null,
   "metadata": {
    "collapsed": true
   },
   "outputs": [],
   "source": []
  }
 ],
 "metadata": {
  "kernelspec": {
   "display_name": "Python 2",
   "language": "python",
   "name": "python2"
  },
  "language_info": {
   "codemirror_mode": {
    "name": "ipython",
    "version": 2
   },
   "file_extension": ".py",
   "mimetype": "text/x-python",
   "name": "python",
   "nbconvert_exporter": "python",
   "pygments_lexer": "ipython2",
   "version": "2.7.12"
  }
 },
 "nbformat": 4,
 "nbformat_minor": 2
}

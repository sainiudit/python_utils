{
 "cells": [
  {
   "cell_type": "code",
   "execution_count": 23,
   "metadata": {},
   "outputs": [],
   "source": [
    "import os\n",
    "import csv\n",
    "from collections import Counter\n",
    "from operator import itemgetter\n",
    "from prettytable import PrettyTable\n",
    "import pandas as pd\n",
    "from pandas.io.json import json_normalize"
   ]
  },
  {
   "cell_type": "code",
   "execution_count": 14,
   "metadata": {
    "collapsed": true
   },
   "outputs": [],
   "source": [
    "df=pd.read_csv(\"data/clean_data.csv\").sample(1000)"
   ]
  },
  {
   "cell_type": "code",
   "execution_count": 15,
   "metadata": {},
   "outputs": [],
   "source": [
    "transforms = [(', Inc.', ''), (', Inc', ''), (', LLC', ''), (', LLP', ''),\n",
    "               (' LLC', ''), (' Inc.', ''), (' Inc', '')]"
   ]
  },
  {
   "cell_type": "code",
   "execution_count": 27,
   "metadata": {
    "collapsed": true
   },
   "outputs": [],
   "source": [
    "df=df.reset_index()"
   ]
  },
  {
   "cell_type": "code",
   "execution_count": 41,
   "metadata": {},
   "outputs": [
    {
     "data": {
      "text/plain": [
       "0      [\n",
       "1      [\n",
       "2      [\n",
       "3      [\n",
       "4      [\n",
       "5      [\n",
       "6      [\n",
       "7      [\n",
       "8      [\n",
       "9      [\n",
       "10     [\n",
       "11     [\n",
       "12     [\n",
       "13     [\n",
       "14     [\n",
       "15     [\n",
       "16     [\n",
       "17     [\n",
       "18     [\n",
       "19     [\n",
       "20     [\n",
       "21     [\n",
       "22     [\n",
       "23     [\n",
       "24     [\n",
       "25     [\n",
       "26     [\n",
       "27     [\n",
       "28     [\n",
       "29     [\n",
       "      ..\n",
       "970    [\n",
       "971    [\n",
       "972    [\n",
       "973    [\n",
       "974    [\n",
       "975    [\n",
       "976    [\n",
       "977    [\n",
       "978    [\n",
       "979    [\n",
       "980    [\n",
       "981    [\n",
       "982    [\n",
       "983    [\n",
       "984    [\n",
       "985    [\n",
       "986    [\n",
       "987    [\n",
       "988    [\n",
       "989    [\n",
       "990    [\n",
       "991    [\n",
       "992    [\n",
       "993    [\n",
       "994    [\n",
       "995    [\n",
       "996    [\n",
       "997    [\n",
       "998    [\n",
       "999    [\n",
       "Name: educations, dtype: object"
      ]
     },
     "execution_count": 41,
     "metadata": {},
     "output_type": "execute_result"
    }
   ],
   "source": [
    "df.educations.apply(lambda x: x[0])"
   ]
  },
  {
   "cell_type": "code",
   "execution_count": 29,
   "metadata": {},
   "outputs": [
    {
     "ename": "AttributeError",
     "evalue": "'str' object has no attribute 'itervalues'",
     "output_type": "error",
     "traceback": [
      "\u001b[0;31m---------------------------------------------------------------------------\u001b[0m",
      "\u001b[0;31mAttributeError\u001b[0m                            Traceback (most recent call last)",
      "\u001b[0;32m<ipython-input-29-9d076f272e39>\u001b[0m in \u001b[0;36m<module>\u001b[0;34m()\u001b[0m\n\u001b[1;32m      1\u001b[0m \u001b[0;32mimport\u001b[0m \u001b[0mjson\u001b[0m\u001b[0;34m\u001b[0m\u001b[0m\n\u001b[1;32m      2\u001b[0m \u001b[0;34m\u001b[0m\u001b[0m\n\u001b[0;32m----> 3\u001b[0;31m \u001b[0mdf\u001b[0m\u001b[0;34m[\u001b[0m\u001b[0;34m'positions'\u001b[0m\u001b[0;34m]\u001b[0m\u001b[0;34m.\u001b[0m\u001b[0mapply\u001b[0m\u001b[0;34m(\u001b[0m\u001b[0;32mlambda\u001b[0m \u001b[0mx\u001b[0m\u001b[0;34m:\u001b[0m\u001b[0mjson_normalize\u001b[0m\u001b[0;34m(\u001b[0m\u001b[0mx\u001b[0m\u001b[0;34m[\u001b[0m\u001b[0;36m0\u001b[0m\u001b[0;34m]\u001b[0m\u001b[0;34m)\u001b[0m\u001b[0;34m)\u001b[0m\u001b[0;34m\u001b[0m\u001b[0m\n\u001b[0m",
      "\u001b[0;32m/usr/local/lib/python2.7/dist-packages/pandas/core/series.pyc\u001b[0m in \u001b[0;36mapply\u001b[0;34m(self, func, convert_dtype, args, **kwds)\u001b[0m\n\u001b[1;32m   2292\u001b[0m             \u001b[0;32melse\u001b[0m\u001b[0;34m:\u001b[0m\u001b[0;34m\u001b[0m\u001b[0m\n\u001b[1;32m   2293\u001b[0m                 \u001b[0mvalues\u001b[0m \u001b[0;34m=\u001b[0m \u001b[0mself\u001b[0m\u001b[0;34m.\u001b[0m\u001b[0masobject\u001b[0m\u001b[0;34m\u001b[0m\u001b[0m\n\u001b[0;32m-> 2294\u001b[0;31m                 \u001b[0mmapped\u001b[0m \u001b[0;34m=\u001b[0m \u001b[0mlib\u001b[0m\u001b[0;34m.\u001b[0m\u001b[0mmap_infer\u001b[0m\u001b[0;34m(\u001b[0m\u001b[0mvalues\u001b[0m\u001b[0;34m,\u001b[0m \u001b[0mf\u001b[0m\u001b[0;34m,\u001b[0m \u001b[0mconvert\u001b[0m\u001b[0;34m=\u001b[0m\u001b[0mconvert_dtype\u001b[0m\u001b[0;34m)\u001b[0m\u001b[0;34m\u001b[0m\u001b[0m\n\u001b[0m\u001b[1;32m   2295\u001b[0m \u001b[0;34m\u001b[0m\u001b[0m\n\u001b[1;32m   2296\u001b[0m         \u001b[0;32mif\u001b[0m \u001b[0mlen\u001b[0m\u001b[0;34m(\u001b[0m\u001b[0mmapped\u001b[0m\u001b[0;34m)\u001b[0m \u001b[0;32mand\u001b[0m \u001b[0misinstance\u001b[0m\u001b[0;34m(\u001b[0m\u001b[0mmapped\u001b[0m\u001b[0;34m[\u001b[0m\u001b[0;36m0\u001b[0m\u001b[0;34m]\u001b[0m\u001b[0;34m,\u001b[0m \u001b[0mSeries\u001b[0m\u001b[0;34m)\u001b[0m\u001b[0;34m:\u001b[0m\u001b[0;34m\u001b[0m\u001b[0m\n",
      "\u001b[0;32mpandas/src/inference.pyx\u001b[0m in \u001b[0;36mpandas.lib.map_infer (pandas/lib.c:63843)\u001b[0;34m()\u001b[0m\n",
      "\u001b[0;32m<ipython-input-29-9d076f272e39>\u001b[0m in \u001b[0;36m<lambda>\u001b[0;34m(x)\u001b[0m\n\u001b[1;32m      1\u001b[0m \u001b[0;32mimport\u001b[0m \u001b[0mjson\u001b[0m\u001b[0;34m\u001b[0m\u001b[0m\n\u001b[1;32m      2\u001b[0m \u001b[0;34m\u001b[0m\u001b[0m\n\u001b[0;32m----> 3\u001b[0;31m \u001b[0mdf\u001b[0m\u001b[0;34m[\u001b[0m\u001b[0;34m'positions'\u001b[0m\u001b[0;34m]\u001b[0m\u001b[0;34m.\u001b[0m\u001b[0mapply\u001b[0m\u001b[0;34m(\u001b[0m\u001b[0;32mlambda\u001b[0m \u001b[0mx\u001b[0m\u001b[0;34m:\u001b[0m\u001b[0mjson_normalize\u001b[0m\u001b[0;34m(\u001b[0m\u001b[0mx\u001b[0m\u001b[0;34m[\u001b[0m\u001b[0;36m0\u001b[0m\u001b[0;34m]\u001b[0m\u001b[0;34m)\u001b[0m\u001b[0;34m)\u001b[0m\u001b[0;34m\u001b[0m\u001b[0m\n\u001b[0m",
      "\u001b[0;32m/usr/local/lib/python2.7/dist-packages/pandas/io/json.pyc\u001b[0m in \u001b[0;36mjson_normalize\u001b[0;34m(data, record_path, meta, meta_prefix, record_prefix)\u001b[0m\n\u001b[1;32m    791\u001b[0m \u001b[0;34m\u001b[0m\u001b[0m\n\u001b[1;32m    792\u001b[0m     \u001b[0;32mif\u001b[0m \u001b[0mrecord_path\u001b[0m \u001b[0;32mis\u001b[0m \u001b[0mNone\u001b[0m\u001b[0;34m:\u001b[0m\u001b[0;34m\u001b[0m\u001b[0m\n\u001b[0;32m--> 793\u001b[0;31m         \u001b[0;32mif\u001b[0m \u001b[0many\u001b[0m\u001b[0;34m(\u001b[0m\u001b[0;34m[\u001b[0m\u001b[0misinstance\u001b[0m\u001b[0;34m(\u001b[0m\u001b[0mx\u001b[0m\u001b[0;34m,\u001b[0m \u001b[0mdict\u001b[0m\u001b[0;34m)\u001b[0m \u001b[0;32mfor\u001b[0m \u001b[0mx\u001b[0m \u001b[0;32min\u001b[0m \u001b[0mcompat\u001b[0m\u001b[0;34m.\u001b[0m\u001b[0mitervalues\u001b[0m\u001b[0;34m(\u001b[0m\u001b[0mdata\u001b[0m\u001b[0;34m[\u001b[0m\u001b[0;36m0\u001b[0m\u001b[0;34m]\u001b[0m\u001b[0;34m)\u001b[0m\u001b[0;34m]\u001b[0m\u001b[0;34m)\u001b[0m\u001b[0;34m:\u001b[0m\u001b[0;34m\u001b[0m\u001b[0m\n\u001b[0m\u001b[1;32m    794\u001b[0m             \u001b[0;31m# naive normalization, this is idempotent for flat records\u001b[0m\u001b[0;34m\u001b[0m\u001b[0;34m\u001b[0m\u001b[0m\n\u001b[1;32m    795\u001b[0m             \u001b[0;31m# and potentially will inflate the data considerably for\u001b[0m\u001b[0;34m\u001b[0m\u001b[0;34m\u001b[0m\u001b[0m\n",
      "\u001b[0;32m/usr/local/lib/python2.7/dist-packages/pandas/compat/__init__.pyc\u001b[0m in \u001b[0;36mitervalues\u001b[0;34m(obj, **kw)\u001b[0m\n\u001b[1;32m    169\u001b[0m \u001b[0;34m\u001b[0m\u001b[0m\n\u001b[1;32m    170\u001b[0m     \u001b[0;32mdef\u001b[0m \u001b[0mitervalues\u001b[0m\u001b[0;34m(\u001b[0m\u001b[0mobj\u001b[0m\u001b[0;34m,\u001b[0m \u001b[0;34m**\u001b[0m\u001b[0mkw\u001b[0m\u001b[0;34m)\u001b[0m\u001b[0;34m:\u001b[0m\u001b[0;34m\u001b[0m\u001b[0m\n\u001b[0;32m--> 171\u001b[0;31m         \u001b[0;32mreturn\u001b[0m \u001b[0mobj\u001b[0m\u001b[0;34m.\u001b[0m\u001b[0mitervalues\u001b[0m\u001b[0;34m(\u001b[0m\u001b[0;34m**\u001b[0m\u001b[0mkw\u001b[0m\u001b[0;34m)\u001b[0m\u001b[0;34m\u001b[0m\u001b[0m\n\u001b[0m\u001b[1;32m    172\u001b[0m \u001b[0;34m\u001b[0m\u001b[0m\n\u001b[1;32m    173\u001b[0m     \u001b[0mnext\u001b[0m \u001b[0;34m=\u001b[0m \u001b[0;32mlambda\u001b[0m \u001b[0mit\u001b[0m \u001b[0;34m:\u001b[0m \u001b[0mit\u001b[0m\u001b[0;34m.\u001b[0m\u001b[0mnext\u001b[0m\u001b[0;34m(\u001b[0m\u001b[0;34m)\u001b[0m\u001b[0;34m\u001b[0m\u001b[0m\n",
      "\u001b[0;31mAttributeError\u001b[0m: 'str' object has no attribute 'itervalues'"
     ]
    }
   ],
   "source": [
    "import json\n",
    "\n",
    "df['positions'].apply(lambda x:json_normalize(x[0]))"
   ]
  },
  {
   "cell_type": "code",
   "execution_count": 28,
   "metadata": {},
   "outputs": [
    {
     "data": {
      "text/plain": [
       "0      [{u'start-date': u'2010-09-01', u'is-current':...\n",
       "1      [{u'start-date': u'2011-10-01', u'is-current':...\n",
       "2      [{u'start-date': u'2010-12-01', u'is-current':...\n",
       "3      [{u'start-date': u'2010-09-01', u'is-current':...\n",
       "4      [{u'start-date': u'2011-09-01', u'is-current':...\n",
       "5      [{u'start-date': u'2011-04-01', u'is-current':...\n",
       "6      [{u'start-date': u'2009-11-01', u'is-current':...\n",
       "7      [{u'start-date': u'2010-12-01', u'is-current':...\n",
       "8      [{u'start-date': u'2011-05-01', u'is-current':...\n",
       "9      [{u'start-date': u'2004-08-01', u'is-current':...\n",
       "10     [{u'start-date': u'2007-06-01', u'is-current':...\n",
       "11     [{u'start-date': u'2011-05-01', u'is-current':...\n",
       "12     [{u'start-date': u'2005-04-01', u'is-current':...\n",
       "13     [{u'is-current': True, u'start-date': u'2011-0...\n",
       "14     [{u'is-current': True, u'start-date': u'2004-0...\n",
       "15     [{u'is-current': True, u'start-date': u'2010-0...\n",
       "16     [{u'start-date': u'2011-07-01', u'is-current':...\n",
       "17     [{u'is-current': True, u'start-date': u'2005',...\n",
       "18     [{u'is-current': True, u'start-date': u'2011-0...\n",
       "19     [{u'start-date': u'2011-05-01', u'company-name...\n",
       "20     [{u'start-date': u'2002-03-01', u'is-current':...\n",
       "21     [{u'is-current': True, u'start-date': u'2011-0...\n",
       "22     [{u'start-date': u'2012-04-01', u'is-current':...\n",
       "23     [{u'start-date': u'2008-02-01', u'is-current':...\n",
       "24     [{u'start-date': u'2007-09-01', u'is-current':...\n",
       "25     [{u'start-date': u'2010-10-01', u'is-current':...\n",
       "26     [{u'start-date': u'2012', u'is-current': True,...\n",
       "27     [{u'start-date': u'2011-05-01', u'is-current':...\n",
       "28     [{u'start-date': u'2010-04-01', u'is-current':...\n",
       "29     [{u'start-date': u'2010-03-01', u'is-current':...\n",
       "                             ...                        \n",
       "970    [{u'start-date': u'1994-03-01', u'is-current':...\n",
       "971    [{u'start-date': u'2008-02-01', u'is-current':...\n",
       "972    [{u'start-date': u'2009-07-01', u'is-current':...\n",
       "973    [{u'start-date': u'2012-05-01', u'is-current':...\n",
       "974    [{u'start-date': u'2011', u'is-current': True,...\n",
       "975    [{u'is-current': True, u'start-date': u'2012-0...\n",
       "976    [{u'is-current': True, u'start-date': u'1988-1...\n",
       "977    [{u'start-date': u'2010-11-01', u'is-current':...\n",
       "978    [{u'start-date': u'2012-05-01', u'is-current':...\n",
       "979    [{u'is-current': True, u'start-date': u'2011-1...\n",
       "980    [{u'start-date': u'2011-06-01', u'company-name...\n",
       "981    [{u'is-current': True, u'start-date': u'2011-0...\n",
       "982    [{u'start-date': u'2011-08-01', u'is-current':...\n",
       "983    [{u'start-date': u'2005', u'is-current': True,...\n",
       "984    [{u'is-current': True, u'start-date': u'2009-0...\n",
       "985    [{u'start-date': u'2012-05-01', u'is-current':...\n",
       "986    [{u'is-current': True, u'start-date': u'2012-0...\n",
       "987    [{u'start-date': u'2004-06-01', u'is-current':...\n",
       "988    [{u'start-date': u'2010-09-01', u'is-current':...\n",
       "989    [{u'start-date': u'2012-04-01', u'is-current':...\n",
       "990    [{u'start-date': u'2011-07-01', u'is-current':...\n",
       "991    [{u'is-current': True, u'start-date': u'2012-0...\n",
       "992    [{u'is-current': True, u'start-date': u'2012-0...\n",
       "993    [{u'start-date': u'2008-06-01', u'is-current':...\n",
       "994    [{u'start-date': u'2011-07-01', u'is-current':...\n",
       "995    [{u'start-date': u'2008-04-01', u'is-current':...\n",
       "996    [{u'is-current': True, u'start-date': u'2010-0...\n",
       "997    [{u'is-current': True, u'start-date': u'2012-0...\n",
       "998    [{u'is-current': True, u'start-date': u'2007-0...\n",
       "999    [{u'start-date': u'2010-07-01', u'is-current':...\n",
       "Name: positions, dtype: object"
      ]
     },
     "execution_count": 28,
     "metadata": {},
     "output_type": "execute_result"
    }
   ],
   "source": [
    "df['positions']"
   ]
  }
 ],
 "metadata": {
  "kernelspec": {
   "display_name": "Python 2",
   "language": "python",
   "name": "python2"
  },
  "language_info": {
   "codemirror_mode": {
    "name": "ipython",
    "version": 2
   },
   "file_extension": ".py",
   "mimetype": "text/x-python",
   "name": "python",
   "nbconvert_exporter": "python",
   "pygments_lexer": "ipython2",
   "version": "2.7.12"
  }
 },
 "nbformat": 4,
 "nbformat_minor": 2
}
